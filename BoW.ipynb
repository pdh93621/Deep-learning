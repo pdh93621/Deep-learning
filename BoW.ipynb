{
  "nbformat": 4,
  "nbformat_minor": 0,
  "metadata": {
    "colab": {
      "name": "BoW.ipynb",
      "provenance": [],
      "authorship_tag": "ABX9TyMPIjvYkrpK1TUAYp+du/TY",
      "include_colab_link": true
    },
    "kernelspec": {
      "name": "python3",
      "display_name": "Python 3"
    },
    "language_info": {
      "name": "python"
    }
  },
  "cells": [
    {
      "cell_type": "markdown",
      "metadata": {
        "id": "view-in-github",
        "colab_type": "text"
      },
      "source": [
        "<a href=\"https://colab.research.google.com/github/pdh93621/Deep-learning/blob/main/BoW.ipynb\" target=\"_parent\"><img src=\"https://colab.research.google.com/assets/colab-badge.svg\" alt=\"Open In Colab\"/></a>"
      ]
    },
    {
      "cell_type": "markdown",
      "metadata": {
        "id": "7XJgvCmFmnZj"
      },
      "source": [
        "## Bag of Words"
      ]
    },
    {
      "cell_type": "code",
      "metadata": {
        "id": "Nc1Xm4tbdO_d"
      },
      "source": [
        "doc1 = 'John likes to watch movies and Mary likes movies too'\n",
        "doc2 = 'Mary also likes to watch football games'\n",
        "doc3 = doc1 + ' ' + doc2\n",
        "  "
      ],
      "execution_count": 35,
      "outputs": []
    },
    {
      "cell_type": "code",
      "metadata": {
        "colab": {
          "base_uri": "https://localhost:8080/"
        },
        "id": "fpfnkAcIoC9O",
        "outputId": "2530ea6b-b644-487b-a84a-3dce4eb26a4a"
      },
      "source": [
        "print(doc3)"
      ],
      "execution_count": 4,
      "outputs": [
        {
          "output_type": "stream",
          "text": [
            "John likes to watch movies. Mary likes movies too. Mary also likes to watch football games\n"
          ],
          "name": "stdout"
        }
      ]
    },
    {
      "cell_type": "markdown",
      "metadata": {
        "id": "yybQPPZSoNa6"
      },
      "source": [
        "## Keras Tokenizer를 활용한 BoW"
      ]
    },
    {
      "cell_type": "code",
      "metadata": {
        "id": "9C6M0JpgoGjv"
      },
      "source": [
        "from tensorflow.keras.preprocessing.text import Tokenizer"
      ],
      "execution_count": 5,
      "outputs": []
    },
    {
      "cell_type": "code",
      "metadata": {
        "id": "VSlGhYQLogVx"
      },
      "source": [
        "def print_bow(sentence):\n",
        "  tokenizer = Tokenizer()\n",
        "  tokenizer.fit_on_texts(sentence)\n",
        "  bow = dict(tokenizer.word_counts)\n",
        "  print('Bag of Words:',bow)\n",
        "  print('단어장(vocabulary)의 크기:', len(tokenizer.word_counts))"
      ],
      "execution_count": 8,
      "outputs": []
    },
    {
      "cell_type": "code",
      "metadata": {
        "colab": {
          "base_uri": "https://localhost:8080/"
        },
        "id": "qlJDDhXNpEjG",
        "outputId": "f79ee787-4f74-46cc-9af7-5f09bf1e20e4"
      },
      "source": [
        "sentence = []\n",
        "sentence.append(doc3)\n",
        "\n",
        "print_bow(sentence)"
      ],
      "execution_count": 12,
      "outputs": [
        {
          "output_type": "stream",
          "text": [
            "Bag of Words: {'john': 1, 'likes': 3, 'to': 2, 'watch': 2, 'movies': 2, 'mary': 2, 'too': 1, 'also': 1, 'football': 1, 'games': 1}\n",
            "단어장(vocabulary)의 크기: 10\n"
          ],
          "name": "stdout"
        }
      ]
    },
    {
      "cell_type": "code",
      "metadata": {
        "colab": {
          "base_uri": "https://localhost:8080/"
        },
        "id": "z5PyNOWCpHsk",
        "outputId": "72b9913b-32ed-4e16-b1cb-bdcbe05cc7cf"
      },
      "source": [
        "from sklearn.feature_extraction.text import CountVectorizer\n",
        "\n",
        "vector = CountVectorizer()\n",
        "print('Bag of Words:', vector.fit_transform(sentence).toarray())\n",
        "print('각 단어의 인덱스:', vector.vocabulary_)"
      ],
      "execution_count": 13,
      "outputs": [
        {
          "output_type": "stream",
          "text": [
            "Bag of Words: [[1 1 1 1 3 2 2 2 1 2]]\n",
            "각 단어의 인덱스: {'john': 3, 'likes': 4, 'to': 7, 'watch': 9, 'movies': 6, 'mary': 5, 'too': 8, 'also': 0, 'football': 1, 'games': 2}\n"
          ],
          "name": "stdout"
        }
      ]
    },
    {
      "cell_type": "code",
      "metadata": {
        "colab": {
          "base_uri": "https://localhost:8080/"
        },
        "id": "Kb-6BFLAp5RP",
        "outputId": "dc58a10c-ff3a-479f-a532-bcaaff6040aa"
      },
      "source": [
        "print('단어장(vocabulary)의 크기:', len(vector.vocabulary_))\n",
        "\n",
        "for i in vector.vocabulary_:\n",
        "  \n"
      ],
      "execution_count": 14,
      "outputs": [
        {
          "output_type": "stream",
          "text": [
            "단어장(vocabulary)의 크기: 10\n"
          ],
          "name": "stdout"
        }
      ]
    },
    {
      "cell_type": "markdown",
      "metadata": {
        "id": "1uhqwzH2qm35"
      },
      "source": [
        "## DTM(Document-Term Matrix)"
      ]
    },
    {
      "cell_type": "code",
      "metadata": {
        "id": "-TPy54BsqcxJ"
      },
      "source": [
        "doc1 = 'I like dog'\n",
        "doc2 = 'I like cat'\n",
        "doc3 = doc1 + doc2"
      ],
      "execution_count": 15,
      "outputs": []
    },
    {
      "cell_type": "code",
      "metadata": {
        "id": "ElkLFJsHrVTs"
      },
      "source": [
        "import numpy as np\n",
        "from numpy import dot\n",
        "from numpy.linalg import norm\n",
        "\n",
        "mat1 = np.array([0,1,1,1])\n",
        "mat2 = np.array([1,0,1,1])\n",
        "mat3 = np.array([2,0,2,2])\n",
        "\n",
        "def cos_sim(A,B):\n",
        "  return dot(A,B)/(norm(A)*norm(B))"
      ],
      "execution_count": 16,
      "outputs": []
    },
    {
      "cell_type": "code",
      "metadata": {
        "colab": {
          "base_uri": "https://localhost:8080/"
        },
        "id": "XU5zIiVMrwpX",
        "outputId": "b3531ad3-1bf0-48cf-c543-b62a4743c6d2"
      },
      "source": [
        "print(cos_sim(mat1, mat2))\n",
        "print(cos_sim(mat1, mat3))\n",
        "print(cos_sim(mat2, mat3))"
      ],
      "execution_count": 18,
      "outputs": [
        {
          "output_type": "stream",
          "text": [
            "0.6666666666666667\n",
            "0.6666666666666667\n",
            "1.0000000000000002\n"
          ],
          "name": "stdout"
        }
      ]
    },
    {
      "cell_type": "markdown",
      "metadata": {
        "id": "MZR2YvK0sIV_"
      },
      "source": [
        "## sckit-learn CountVectorizer 활용한 DTM 구현"
      ]
    },
    {
      "cell_type": "code",
      "metadata": {
        "id": "Xi2kGPrAr7l1"
      },
      "source": [
        "from sklearn.feature_extraction.text import CountVectorizer\n",
        "\n",
        "corpus = []\n",
        "corpus.append(doc1)\n",
        "corpus.append(doc2)\n",
        "corpus.append(doc3)"
      ],
      "execution_count": 21,
      "outputs": []
    },
    {
      "cell_type": "code",
      "metadata": {
        "colab": {
          "base_uri": "https://localhost:8080/"
        },
        "id": "yCHODJ73sikN",
        "outputId": "8efa7cf3-c6e3-43a1-b225-bd1b32f38bd2"
      },
      "source": [
        "vector = CountVectorizer()\n",
        "print(vector.fit_transform(corpus).toarray())\n",
        "print(vector.vocabulary_)"
      ],
      "execution_count": 22,
      "outputs": [
        {
          "output_type": "stream",
          "text": [
            "[[0 0 0 1 2 1 2 1 1 1]\n",
            " [1 1 1 0 1 1 0 1 0 1]\n",
            " [1 1 1 1 3 2 2 2 1 2]]\n",
            "{'john': 3, 'likes': 4, 'to': 7, 'watch': 9, 'movies': 6, 'mary': 5, 'too': 8, 'also': 0, 'football': 1, 'games': 2}\n"
          ],
          "name": "stdout"
        }
      ]
    },
    {
      "cell_type": "markdown",
      "metadata": {
        "id": "bnmSZtektHMG"
      },
      "source": [
        "## TF-IDF"
      ]
    },
    {
      "cell_type": "code",
      "metadata": {
        "id": "LV5vB3R2stky"
      },
      "source": [
        "from math import log\n",
        "import pandas as pd\n",
        "\n",
        "docs = corpus.copy()"
      ],
      "execution_count": 24,
      "outputs": []
    },
    {
      "cell_type": "code",
      "metadata": {
        "id": "gJvykB5YuDoO"
      },
      "source": [
        "vocab = list(set(w for doc in docs for w in doc.split()))"
      ],
      "execution_count": 25,
      "outputs": []
    },
    {
      "cell_type": "code",
      "metadata": {
        "colab": {
          "base_uri": "https://localhost:8080/"
        },
        "id": "No7lSr-ZueiM",
        "outputId": "00dac60c-7877-4624-c5b1-ce892bcdafbc"
      },
      "source": [
        "vocab.sort()\n",
        "print('단어장의 크기:',len(vocab))\n",
        "print(vocab)"
      ],
      "execution_count": 26,
      "outputs": [
        {
          "output_type": "stream",
          "text": [
            "단어장의 크기: 11\n",
            "['John', 'Mary', 'also', 'football', 'games', 'likes', 'movies', 'movies.', 'to', 'too.', 'watch']\n"
          ],
          "name": "stdout"
        }
      ]
    },
    {
      "cell_type": "code",
      "metadata": {
        "id": "n2zBTTSPulpP"
      },
      "source": [
        "N = len(docs)"
      ],
      "execution_count": 27,
      "outputs": []
    },
    {
      "cell_type": "code",
      "metadata": {
        "id": "zWxPFgf2usTr"
      },
      "source": [
        "def tf(t,d):\n",
        "  return d.count(t)\n",
        "\n",
        "def idf(t):\n",
        "  df = 0\n",
        "  for doc in docs:\n",
        "    df += t in doc\n",
        "  return log(N/(df+1))+1\n",
        "\n",
        "def tfidf(t, d):\n",
        "  return tf(t,d) * idf(t)"
      ],
      "execution_count": 28,
      "outputs": []
    },
    {
      "cell_type": "markdown",
      "metadata": {
        "id": "hY4Vp3t9u_be"
      },
      "source": [
        "TF 함수를 사용하여 DTM을 만들어보자"
      ]
    },
    {
      "cell_type": "code",
      "metadata": {
        "colab": {
          "base_uri": "https://localhost:8080/"
        },
        "id": "YmOGZTHJu9oU",
        "outputId": "b7cfe99c-de03-4ddb-8f83-97a6dbfc3fba"
      },
      "source": [
        "result = []\n",
        "for i in range(N):\n",
        "  result.append([])\n",
        "  d = docs[i]\n",
        "  for j in range(len(vocab)):\n",
        "    t = vocab[j]\n",
        "\n",
        "    result[-1].append(tf(t,d))\n",
        "\n",
        "tf_ = pd.DataFrame(result, columns = vocab)\n",
        "print(tf_)"
      ],
      "execution_count": 32,
      "outputs": [
        {
          "output_type": "stream",
          "text": [
            "   John  Mary  also  football  games  likes  movies  movies.  to  too.  watch\n",
            "0     1     1     0         0      0      2       2        1   2     1      1\n",
            "1     0     1     1         1      1      1       0        0   1     0      1\n",
            "2     1     2     1         1      1      3       2        1   3     1      2\n"
          ],
          "name": "stdout"
        }
      ]
    },
    {
      "cell_type": "code",
      "metadata": {
        "colab": {
          "base_uri": "https://localhost:8080/",
          "height": 388
        },
        "id": "PtFOWPp5veJh",
        "outputId": "a2ca428d-f34e-433a-9216-cc8a6632fe72"
      },
      "source": [
        "result = []\n",
        "for j in range(len(vocab)):\n",
        "  t = vocab[j]\n",
        "  result.append(idf(t))\n",
        "\n",
        "idf_ = pd.DataFrame(result, index= vocab, columns= ['IDF'])\n",
        "idf_"
      ],
      "execution_count": 33,
      "outputs": [
        {
          "output_type": "execute_result",
          "data": {
            "text/html": [
              "<div>\n",
              "<style scoped>\n",
              "    .dataframe tbody tr th:only-of-type {\n",
              "        vertical-align: middle;\n",
              "    }\n",
              "\n",
              "    .dataframe tbody tr th {\n",
              "        vertical-align: top;\n",
              "    }\n",
              "\n",
              "    .dataframe thead th {\n",
              "        text-align: right;\n",
              "    }\n",
              "</style>\n",
              "<table border=\"1\" class=\"dataframe\">\n",
              "  <thead>\n",
              "    <tr style=\"text-align: right;\">\n",
              "      <th></th>\n",
              "      <th>IDF</th>\n",
              "    </tr>\n",
              "  </thead>\n",
              "  <tbody>\n",
              "    <tr>\n",
              "      <th>John</th>\n",
              "      <td>1.000000</td>\n",
              "    </tr>\n",
              "    <tr>\n",
              "      <th>Mary</th>\n",
              "      <td>0.712318</td>\n",
              "    </tr>\n",
              "    <tr>\n",
              "      <th>also</th>\n",
              "      <td>1.000000</td>\n",
              "    </tr>\n",
              "    <tr>\n",
              "      <th>football</th>\n",
              "      <td>1.000000</td>\n",
              "    </tr>\n",
              "    <tr>\n",
              "      <th>games</th>\n",
              "      <td>1.000000</td>\n",
              "    </tr>\n",
              "    <tr>\n",
              "      <th>likes</th>\n",
              "      <td>0.712318</td>\n",
              "    </tr>\n",
              "    <tr>\n",
              "      <th>movies</th>\n",
              "      <td>1.000000</td>\n",
              "    </tr>\n",
              "    <tr>\n",
              "      <th>movies.</th>\n",
              "      <td>1.000000</td>\n",
              "    </tr>\n",
              "    <tr>\n",
              "      <th>to</th>\n",
              "      <td>0.712318</td>\n",
              "    </tr>\n",
              "    <tr>\n",
              "      <th>too.</th>\n",
              "      <td>1.000000</td>\n",
              "    </tr>\n",
              "    <tr>\n",
              "      <th>watch</th>\n",
              "      <td>0.712318</td>\n",
              "    </tr>\n",
              "  </tbody>\n",
              "</table>\n",
              "</div>"
            ],
            "text/plain": [
              "               IDF\n",
              "John      1.000000\n",
              "Mary      0.712318\n",
              "also      1.000000\n",
              "football  1.000000\n",
              "games     1.000000\n",
              "likes     0.712318\n",
              "movies    1.000000\n",
              "movies.   1.000000\n",
              "to        0.712318\n",
              "too.      1.000000\n",
              "watch     0.712318"
            ]
          },
          "metadata": {
            "tags": []
          },
          "execution_count": 33
        }
      ]
    },
    {
      "cell_type": "markdown",
      "metadata": {
        "id": "53HSRfH9wAVF"
      },
      "source": [
        "TF-IDF 행렬을 출력 DTM에 있는 각 단어의 TF에 각 단어의 IDF를 곱해준 값"
      ]
    },
    {
      "cell_type": "code",
      "metadata": {
        "colab": {
          "base_uri": "https://localhost:8080/",
          "height": 142
        },
        "id": "WiyH_UOFvxKe",
        "outputId": "960f368d-554e-4bca-f4c0-2fafc0359fe9"
      },
      "source": [
        "result = []\n",
        "for i in range(N):\n",
        "  result.append([])\n",
        "  d = docs[i]\n",
        "  for j in range(len(vocab)):\n",
        "    t = vocab[j]\n",
        "\n",
        "    result[-1].append(tfidf(t,d))\n",
        "\n",
        "tfidf_ = pd.DataFrame(result, columns= vocab)\n",
        "tfidf_"
      ],
      "execution_count": 34,
      "outputs": [
        {
          "output_type": "execute_result",
          "data": {
            "text/html": [
              "<div>\n",
              "<style scoped>\n",
              "    .dataframe tbody tr th:only-of-type {\n",
              "        vertical-align: middle;\n",
              "    }\n",
              "\n",
              "    .dataframe tbody tr th {\n",
              "        vertical-align: top;\n",
              "    }\n",
              "\n",
              "    .dataframe thead th {\n",
              "        text-align: right;\n",
              "    }\n",
              "</style>\n",
              "<table border=\"1\" class=\"dataframe\">\n",
              "  <thead>\n",
              "    <tr style=\"text-align: right;\">\n",
              "      <th></th>\n",
              "      <th>John</th>\n",
              "      <th>Mary</th>\n",
              "      <th>also</th>\n",
              "      <th>football</th>\n",
              "      <th>games</th>\n",
              "      <th>likes</th>\n",
              "      <th>movies</th>\n",
              "      <th>movies.</th>\n",
              "      <th>to</th>\n",
              "      <th>too.</th>\n",
              "      <th>watch</th>\n",
              "    </tr>\n",
              "  </thead>\n",
              "  <tbody>\n",
              "    <tr>\n",
              "      <th>0</th>\n",
              "      <td>1.0</td>\n",
              "      <td>0.712318</td>\n",
              "      <td>0.0</td>\n",
              "      <td>0.0</td>\n",
              "      <td>0.0</td>\n",
              "      <td>1.424636</td>\n",
              "      <td>2.0</td>\n",
              "      <td>1.0</td>\n",
              "      <td>1.424636</td>\n",
              "      <td>1.0</td>\n",
              "      <td>0.712318</td>\n",
              "    </tr>\n",
              "    <tr>\n",
              "      <th>1</th>\n",
              "      <td>0.0</td>\n",
              "      <td>0.712318</td>\n",
              "      <td>1.0</td>\n",
              "      <td>1.0</td>\n",
              "      <td>1.0</td>\n",
              "      <td>0.712318</td>\n",
              "      <td>0.0</td>\n",
              "      <td>0.0</td>\n",
              "      <td>0.712318</td>\n",
              "      <td>0.0</td>\n",
              "      <td>0.712318</td>\n",
              "    </tr>\n",
              "    <tr>\n",
              "      <th>2</th>\n",
              "      <td>1.0</td>\n",
              "      <td>1.424636</td>\n",
              "      <td>1.0</td>\n",
              "      <td>1.0</td>\n",
              "      <td>1.0</td>\n",
              "      <td>2.136954</td>\n",
              "      <td>2.0</td>\n",
              "      <td>1.0</td>\n",
              "      <td>2.136954</td>\n",
              "      <td>1.0</td>\n",
              "      <td>1.424636</td>\n",
              "    </tr>\n",
              "  </tbody>\n",
              "</table>\n",
              "</div>"
            ],
            "text/plain": [
              "   John      Mary  also  football  ...  movies.        to  too.     watch\n",
              "0   1.0  0.712318   0.0       0.0  ...      1.0  1.424636   1.0  0.712318\n",
              "1   0.0  0.712318   1.0       1.0  ...      0.0  0.712318   0.0  0.712318\n",
              "2   1.0  1.424636   1.0       1.0  ...      1.0  2.136954   1.0  1.424636\n",
              "\n",
              "[3 rows x 11 columns]"
            ]
          },
          "metadata": {
            "tags": []
          },
          "execution_count": 34
        }
      ]
    },
    {
      "cell_type": "markdown",
      "metadata": {
        "id": "J8qzWDQBwwsm"
      },
      "source": [
        "## scikit-learn TFIDFVectorizer"
      ]
    },
    {
      "cell_type": "code",
      "metadata": {
        "colab": {
          "base_uri": "https://localhost:8080/",
          "height": 142
        },
        "id": "Qe2mM9iLwY29",
        "outputId": "14f2257a-5506-4f67-c0a3-80a1bd57ac49"
      },
      "source": [
        "from sklearn.feature_extraction.text import TfidfVectorizer\n",
        "corpus = [\n",
        "          'John likes to watch movies and Mary likes movies too',\n",
        "          'James likes to watch TV',\n",
        "          'Mary also likes to watch football game'\n",
        "]\n",
        "\n",
        "tfidf = TfidfVectorizer().fit(corpus)\n",
        "vocab = list(set(tfidf.vocabulary_.keys()))\n",
        "vocab.sort()\n",
        "\n",
        "tfdif_ = pd.DataFrame(tfidf.transform(corpus).toarray(), columns=vocab)\n",
        "tfidf_"
      ],
      "execution_count": 37,
      "outputs": [
        {
          "output_type": "execute_result",
          "data": {
            "text/html": [
              "<div>\n",
              "<style scoped>\n",
              "    .dataframe tbody tr th:only-of-type {\n",
              "        vertical-align: middle;\n",
              "    }\n",
              "\n",
              "    .dataframe tbody tr th {\n",
              "        vertical-align: top;\n",
              "    }\n",
              "\n",
              "    .dataframe thead th {\n",
              "        text-align: right;\n",
              "    }\n",
              "</style>\n",
              "<table border=\"1\" class=\"dataframe\">\n",
              "  <thead>\n",
              "    <tr style=\"text-align: right;\">\n",
              "      <th></th>\n",
              "      <th>John</th>\n",
              "      <th>Mary</th>\n",
              "      <th>also</th>\n",
              "      <th>football</th>\n",
              "      <th>games</th>\n",
              "      <th>likes</th>\n",
              "      <th>movies</th>\n",
              "      <th>movies.</th>\n",
              "      <th>to</th>\n",
              "      <th>too.</th>\n",
              "      <th>watch</th>\n",
              "    </tr>\n",
              "  </thead>\n",
              "  <tbody>\n",
              "    <tr>\n",
              "      <th>0</th>\n",
              "      <td>1.0</td>\n",
              "      <td>0.712318</td>\n",
              "      <td>0.0</td>\n",
              "      <td>0.0</td>\n",
              "      <td>0.0</td>\n",
              "      <td>1.424636</td>\n",
              "      <td>2.0</td>\n",
              "      <td>1.0</td>\n",
              "      <td>1.424636</td>\n",
              "      <td>1.0</td>\n",
              "      <td>0.712318</td>\n",
              "    </tr>\n",
              "    <tr>\n",
              "      <th>1</th>\n",
              "      <td>0.0</td>\n",
              "      <td>0.712318</td>\n",
              "      <td>1.0</td>\n",
              "      <td>1.0</td>\n",
              "      <td>1.0</td>\n",
              "      <td>0.712318</td>\n",
              "      <td>0.0</td>\n",
              "      <td>0.0</td>\n",
              "      <td>0.712318</td>\n",
              "      <td>0.0</td>\n",
              "      <td>0.712318</td>\n",
              "    </tr>\n",
              "    <tr>\n",
              "      <th>2</th>\n",
              "      <td>1.0</td>\n",
              "      <td>1.424636</td>\n",
              "      <td>1.0</td>\n",
              "      <td>1.0</td>\n",
              "      <td>1.0</td>\n",
              "      <td>2.136954</td>\n",
              "      <td>2.0</td>\n",
              "      <td>1.0</td>\n",
              "      <td>2.136954</td>\n",
              "      <td>1.0</td>\n",
              "      <td>1.424636</td>\n",
              "    </tr>\n",
              "  </tbody>\n",
              "</table>\n",
              "</div>"
            ],
            "text/plain": [
              "   John      Mary  also  football  ...  movies.        to  too.     watch\n",
              "0   1.0  0.712318   0.0       0.0  ...      1.0  1.424636   1.0  0.712318\n",
              "1   0.0  0.712318   1.0       1.0  ...      0.0  0.712318   0.0  0.712318\n",
              "2   1.0  1.424636   1.0       1.0  ...      1.0  2.136954   1.0  1.424636\n",
              "\n",
              "[3 rows x 11 columns]"
            ]
          },
          "metadata": {
            "tags": []
          },
          "execution_count": 37
        }
      ]
    },
    {
      "cell_type": "code",
      "metadata": {
        "id": "y3phWygSxbOD"
      },
      "source": [
        ""
      ],
      "execution_count": null,
      "outputs": []
    }
  ]
}