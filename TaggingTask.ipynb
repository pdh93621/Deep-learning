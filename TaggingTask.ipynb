{
  "nbformat": 4,
  "nbformat_minor": 0,
  "metadata": {
    "colab": {
      "name": "TaggingTask.ipynb",
      "provenance": [],
      "collapsed_sections": [],
      "mount_file_id": "1TKSWYoziAFM1edI3BaFomXYQsFur9nWn",
      "authorship_tag": "ABX9TyND8vb38qQu6LTnIdreeJIO",
      "include_colab_link": true
    },
    "kernelspec": {
      "name": "python3",
      "display_name": "Python 3"
    },
    "language_info": {
      "name": "python"
    },
    "accelerator": "GPU"
  },
  "cells": [
    {
      "cell_type": "markdown",
      "metadata": {
        "id": "view-in-github",
        "colab_type": "text"
      },
      "source": [
        "<a href=\"https://colab.research.google.com/github/pdh93621/Deep-learning/blob/NLP/TaggingTask.ipynb\" target=\"_parent\"><img src=\"https://colab.research.google.com/assets/colab-badge.svg\" alt=\"Open In Colab\"/></a>"
      ]
    },
    {
      "cell_type": "code",
      "metadata": {
        "id": "fOXeAEsupor8"
      },
      "source": [
        "import nltk\n",
        "import numpy as np\n",
        "import matplotlib.pyplot as plt\n",
        "from tensorflow.keras.preprocessing.text import Tokenizer\n",
        "from tensorflow.keras.preprocessing.sequence import pad_sequences\n",
        "from tensorflow.keras.utils import to_categorical\n",
        "from sklearn.model_selection import train_test_split"
      ],
      "execution_count": 12,
      "outputs": []
    },
    {
      "cell_type": "code",
      "metadata": {
        "colab": {
          "base_uri": "https://localhost:8080/"
        },
        "id": "sPF4SVAvpd2t",
        "outputId": "e3983726-5bd3-460b-f52b-96087538973e"
      },
      "source": [
        "import nltk\n",
        "nltk.download('treebank')\n",
        "tagged_sentences = nltk.corpus.treebank.tagged_sents()"
      ],
      "execution_count": 4,
      "outputs": [
        {
          "output_type": "stream",
          "text": [
            "[nltk_data] Downloading package treebank to /root/nltk_data...\n",
            "[nltk_data]   Package treebank is already up-to-date!\n"
          ],
          "name": "stdout"
        }
      ]
    },
    {
      "cell_type": "code",
      "metadata": {
        "colab": {
          "base_uri": "https://localhost:8080/"
        },
        "id": "XBJmdh2JrijF",
        "outputId": "157ccf77-5c91-4b09-8680-e1f0b6009c7a"
      },
      "source": [
        "print(\"품사 태깅이 된 문장 갯수 :\", len(tagged_sentences))"
      ],
      "execution_count": 5,
      "outputs": [
        {
          "output_type": "stream",
          "text": [
            "품사 태깅이 된 문장 갯수 : 3914\n"
          ],
          "name": "stdout"
        }
      ]
    },
    {
      "cell_type": "code",
      "metadata": {
        "colab": {
          "base_uri": "https://localhost:8080/"
        },
        "id": "Ut78lBXnrsTM",
        "outputId": "55d1a3e6-ac61-46a6-edf3-9106f4162c62"
      },
      "source": [
        "print(tagged_sentences[0])"
      ],
      "execution_count": 6,
      "outputs": [
        {
          "output_type": "stream",
          "text": [
            "[('Pierre', 'NNP'), ('Vinken', 'NNP'), (',', ','), ('61', 'CD'), ('years', 'NNS'), ('old', 'JJ'), (',', ','), ('will', 'MD'), ('join', 'VB'), ('the', 'DT'), ('board', 'NN'), ('as', 'IN'), ('a', 'DT'), ('nonexecutive', 'JJ'), ('director', 'NN'), ('Nov.', 'NNP'), ('29', 'CD'), ('.', '.')]\n"
          ],
          "name": "stdout"
        }
      ]
    },
    {
      "cell_type": "code",
      "metadata": {
        "id": "Vmcel0XEruTg"
      },
      "source": [
        "sentences, pos_tags = [], []\n",
        "for tagged_sentence in tagged_sentences:\n",
        "  sentence, tag_info = zip(*tagged_sentence)\n",
        "  sentences.append(list(sentence))\n",
        "  pos_tags.append(list(tag_info))"
      ],
      "execution_count": 10,
      "outputs": []
    },
    {
      "cell_type": "code",
      "metadata": {
        "colab": {
          "base_uri": "https://localhost:8080/"
        },
        "id": "rfqyw9BFsKU-",
        "outputId": "2b1e1edb-8232-4c9b-e2a8-98f3f8a6849f"
      },
      "source": [
        "print(sentences[0])\n",
        "print(pos_tags[0])"
      ],
      "execution_count": 11,
      "outputs": [
        {
          "output_type": "stream",
          "text": [
            "['Pierre', 'Vinken', ',', '61', 'years', 'old', ',', 'will', 'join', 'the', 'board', 'as', 'a', 'nonexecutive', 'director', 'Nov.', '29', '.']\n",
            "['NNP', 'NNP', ',', 'CD', 'NNS', 'JJ', ',', 'MD', 'VB', 'DT', 'NN', 'IN', 'DT', 'JJ', 'NN', 'NNP', 'CD', '.']\n"
          ],
          "name": "stdout"
        }
      ]
    },
    {
      "cell_type": "code",
      "metadata": {
        "colab": {
          "base_uri": "https://localhost:8080/",
          "height": 318
        },
        "id": "CKIIiDF8sMYd",
        "outputId": "24177ec8-a924-4d15-b880-7a93ea6c3659"
      },
      "source": [
        "print('샘플의 최대 길이: %d' % max(len(l) for l in sentences))\n",
        "print('샘플의 평균 길이: %f' %(sum(map(len, sentences))/ len(sentences)))\n",
        "plt.hist([len(s) for s in sentences], bins = 50)\n",
        "plt.xlabel('length of samples')\n",
        "plt.ylabel('number of samples')\n",
        "plt.show()"
      ],
      "execution_count": 14,
      "outputs": [
        {
          "output_type": "stream",
          "text": [
            "샘플의 최대 길이: 271\n",
            "샘플의 평균 길이: 25.722024\n"
          ],
          "name": "stdout"
        },
        {
          "output_type": "display_data",
          "data": {
            "image/png": "[encoded data removed]",
            "text/plain": [
              "<Figure size 432x288 with 1 Axes>"
            ]
          },
          "metadata": {
            "tags": [],
            "needs_background": "light"
          }
        }
      ]
    },
    {
      "cell_type": "code",
      "metadata": {
        "id": "w2uMxUNEtE0i"
      },
      "source": [
        "def tokenize(samples):\n",
        "  tokenizer = Tokenizer()\n",
        "  tokenizer.fit_on_texts(samples)\n",
        "  return tokenizer"
      ],
      "execution_count": 15,
      "outputs": []
    },
    {
      "cell_type": "code",
      "metadata": {
        "id": "PUVcoOhAta78"
      },
      "source": [
        "src_tokenizer = tokenize(sentences)\n",
        "tar_tokenizer = tokenize(pos_tags)"
      ],
      "execution_count": 16,
      "outputs": []
    },
    {
      "cell_type": "code",
      "metadata": {
        "colab": {
          "base_uri": "https://localhost:8080/"
        },
        "id": "Iga75Wvgtj5s",
        "outputId": "5fecb264-b478-4c36-81e1-af9709ce1e9b"
      },
      "source": [
        "vocab_size = len(src_tokenizer.word_index) + 1\n",
        "tag_size = len(tar_tokenizer.word_index) + 1\n",
        "print(f'단어 집합의 크기: {vocab_size}')\n",
        "print(f'태깅 정보 집합의 크기: {tag_size}')"
      ],
      "execution_count": 17,
      "outputs": [
        {
          "output_type": "stream",
          "text": [
            "단어 집합의 크기: 11388\n",
            "태깅 정보 집합의 크기: 47\n"
          ],
          "name": "stdout"
        }
      ]
    },
    {
      "cell_type": "code",
      "metadata": {
        "id": "RoMC6XuCt2Vf"
      },
      "source": [
        "x_train = src_tokenizer.texts_to_sequences(sentences)\n",
        "y_train = tar_tokenizer.texts_to_sequences(pos_tags)"
      ],
      "execution_count": 18,
      "outputs": []
    },
    {
      "cell_type": "code",
      "metadata": {
        "colab": {
          "base_uri": "https://localhost:8080/"
        },
        "id": "0l65O_qLuIlt",
        "outputId": "bac50db3-11d1-42af-da99-86aa3d6798b9"
      },
      "source": [
        "print(x_train[:2])\n",
        "print(y_train[:2])"
      ],
      "execution_count": 19,
      "outputs": [
        {
          "output_type": "stream",
          "text": [
            "[[5601, 3746, 1, 2024, 86, 331, 1, 46, 2405, 2, 131, 27, 6, 2025, 332, 459, 2026, 3], [31, 3746, 20, 177, 4, 5602, 2915, 1, 2, 2916, 637, 147, 3]]\n",
            "[[3, 3, 8, 10, 6, 7, 8, 21, 13, 4, 1, 2, 4, 7, 1, 3, 10, 9], [3, 3, 17, 1, 2, 3, 3, 8, 4, 3, 19, 1, 9]]\n"
          ],
          "name": "stdout"
        }
      ]
    },
    {
      "cell_type": "code",
      "metadata": {
        "id": "Va14WhExudjy"
      },
      "source": [
        "max_len = 150\n",
        "x_train = pad_sequences(x_train, padding = 'post', maxlen=max_len)\n",
        "y_train = pad_sequences(y_train, padding = 'post', maxlen=max_len)"
      ],
      "execution_count": 20,
      "outputs": []
    },
    {
      "cell_type": "code",
      "metadata": {
        "id": "Yz-EPp0Iur0f"
      },
      "source": [
        "x_train, x_test, y_train, y_test = train_test_split(x_train, y_train, test_size = .2, random_state=777)"
      ],
      "execution_count": 21,
      "outputs": []
    },
    {
      "cell_type": "code",
      "metadata": {
        "id": "H0Dz2bKVu50H"
      },
      "source": [
        "y_train = to_categorical(y_train, num_classes=tag_size)\n",
        "y_test = to_categorical(y_test, num_classes = tag_size)"
      ],
      "execution_count": 22,
      "outputs": []
    },
    {
      "cell_type": "code",
      "metadata": {
        "colab": {
          "base_uri": "https://localhost:8080/"
        },
        "id": "kAQyVOBAvFPB",
        "outputId": "2e1aada6-bd64-48b4-cb81-d70363a4ae40"
      },
      "source": [
        "print(f'훈련 샘플 문장의 크기: {x_train.shape}')\n",
        "print(f'훈련 샘플 레이블의 크기: {y_train.shape}')\n",
        "print(f'테스트 샘플 문장의 크기: {x_test.shape}')\n",
        "print(f'테스트 샘플 문장의 크기: {y_test.shape}')"
      ],
      "execution_count": 23,
      "outputs": [
        {
          "output_type": "stream",
          "text": [
            "훈련 샘플 문장의 크기: (3131, 150)\n",
            "훈련 샘플 레이블의 크기: (3131, 150, 47)\n",
            "테스트 샘플 문장의 크기: (783, 150)\n",
            "테스트 샘플 문장의 크기: (783, 150, 47)\n"
          ],
          "name": "stdout"
        }
      ]
    },
    {
      "cell_type": "code",
      "metadata": {
        "id": "I0OYgieZvb2O"
      },
      "source": [
        "from keras.models import Sequential\n",
        "from keras.layers import Dense, LSTM, InputLayer, Bidirectional, TimeDistributed, Embedding\n",
        "from keras.optimizers import Adam"
      ],
      "execution_count": 25,
      "outputs": []
    },
    {
      "cell_type": "code",
      "metadata": {
        "id": "PLqdpKfwvwof"
      },
      "source": [
        "model = Sequential()\n",
        "model.add(Embedding(vocab_size, 128, input_length = max_len, mask_zero=True))\n",
        "model.add(Bidirectional(LSTM(256, return_sequences=True)))\n",
        "model.add(TimeDistributed(Dense(tag_size, activation = 'softmax')))\n",
        "model.compile(loss='categorical_crossentropy', optimizer='adam', metrics = ['accuracy'])"
      ],
      "execution_count": 26,
      "outputs": []
    },
    {
      "cell_type": "code",
      "metadata": {
        "colab": {
          "base_uri": "https://localhost:8080/"
        },
        "id": "3dogy3v5wbj0",
        "outputId": "3067e0ff-12d9-4abd-a659-a9658c768aa2"
      },
      "source": [
        "model.fit(x_train, y_train, batch_size = 128, epochs = 9, validation_data = (x_test, y_test))"
      ],
      "execution_count": 28,
      "outputs": [
        {
          "output_type": "stream",
          "text": [
            "Epoch 1/9\n",
            "25/25 [==============================] - 1s 54ms/step - loss: 0.0417 - accuracy: 0.9466 - val_loss: 0.0531 - val_accuracy: 0.9206\n",
            "Epoch 2/9\n",
            "25/25 [==============================] - 1s 46ms/step - loss: 0.0274 - accuracy: 0.9647 - val_loss: 0.0461 - val_accuracy: 0.9271\n",
            "Epoch 3/9\n",
            "25/25 [==============================] - 1s 45ms/step - loss: 0.0199 - accuracy: 0.9741 - val_loss: 0.0424 - val_accuracy: 0.9317\n",
            "Epoch 4/9\n",
            "25/25 [==============================] - 1s 46ms/step - loss: 0.0157 - accuracy: 0.9788 - val_loss: 0.0414 - val_accuracy: 0.9319\n",
            "Epoch 5/9\n",
            "25/25 [==============================] - 1s 52ms/step - loss: 0.0129 - accuracy: 0.9823 - val_loss: 0.0394 - val_accuracy: 0.9338\n",
            "Epoch 6/9\n",
            "25/25 [==============================] - 1s 51ms/step - loss: 0.0109 - accuracy: 0.9846 - val_loss: 0.0393 - val_accuracy: 0.9330\n",
            "Epoch 7/9\n",
            "25/25 [==============================] - 1s 47ms/step - loss: 0.0093 - accuracy: 0.9872 - val_loss: 0.0388 - val_accuracy: 0.9344\n",
            "Epoch 8/9\n",
            "25/25 [==============================] - 1s 46ms/step - loss: 0.0081 - accuracy: 0.9891 - val_loss: 0.0389 - val_accuracy: 0.9340\n",
            "Epoch 9/9\n",
            "25/25 [==============================] - 1s 45ms/step - loss: 0.0070 - accuracy: 0.9907 - val_loss: 0.0391 - val_accuracy: 0.9357\n"
          ],
          "name": "stdout"
        },
        {
          "output_type": "execute_result",
          "data": {
            "text/plain": [
              "<keras.callbacks.History at 0x7fb127fa3c50>"
            ]
          },
          "metadata": {
            "tags": []
          },
          "execution_count": 28
        }
      ]
    },
    {
      "cell_type": "code",
      "metadata": {
        "colab": {
          "base_uri": "https://localhost:8080/"
        },
        "id": "7vlCg5HrwmHD",
        "outputId": "adbd18bd-3188-4c7d-a6c6-d6cf01164270"
      },
      "source": [
        "print('\\n 테스트 정확도: %.4f' % (model.evaluate(x_test, y_test)[1]))"
      ],
      "execution_count": 29,
      "outputs": [
        {
          "output_type": "stream",
          "text": [
            "25/25 [==============================] - 0s 12ms/step - loss: 0.0391 - accuracy: 0.9357\n",
            "\n",
            " 테스트 정확도: 0.9357\n"
          ],
          "name": "stdout"
        }
      ]
    },
    {
      "cell_type": "code",
      "metadata": {
        "colab": {
          "base_uri": "https://localhost:8080/"
        },
        "id": "NbgBKPqLyLYb",
        "outputId": "60e5e0ae-a3e9-4b1d-bfd6-8f0a91114fa5"
      },
      "source": [
        "index_to_word = src_tokenizer.index_word\n",
        "index_to_tag = tar_tokenizer.index_word\n",
        "\n",
        "i = 10 # 확인하고 싶은 인덱스\n",
        "y_predicted = model.predict(np.array([x_test[i]]))\n",
        "y_predicted = np.argmax(y_predicted, axis=-1) #원-핫 인코딩을 다시 정수 인코딩으로 변경\n",
        "true = np.argmax(y_test[i], -1) # 원-핫 인코딩을 다시 정수 인코딩으로\n",
        "\n",
        "print(\"{:15}|{:5}|{}\".format(\"단어\", \"실제값\", \"예측값\"))\n",
        "print(35 * \"-\")\n",
        "\n",
        "for w, t, pred in zip(x_test[i], true, y_predicted[0]):\n",
        "  if w != 0:\n",
        "    print(\"{:17}: {:7} {}\".format(index_to_word[w], index_to_tag[t].upper(), index_to_tag[pred].upper()))"
      ],
      "execution_count": 30,
      "outputs": [
        {
          "output_type": "stream",
          "text": [
            "단어             |실제값  |예측값\n",
            "-----------------------------------\n",
            "in               : IN      IN\n",
            "addition         : NN      NN\n",
            ",                : ,       ,\n",
            "buick            : NNP     NNP\n",
            "is               : VBZ     VBZ\n",
            "a                : DT      DT\n",
            "relatively       : RB      RB\n",
            "respected        : VBN     VBN\n",
            "nameplate        : NN      NN\n",
            "among            : IN      IN\n",
            "american         : NNP     NNP\n",
            "express          : NNP     NNP\n",
            "card             : NN      NN\n",
            "holders          : NNS     NNS\n",
            ",                : ,       ,\n",
            "says             : VBZ     VBZ\n",
            "0                : -NONE-  -NONE-\n",
            "*t*-1            : -NONE-  -NONE-\n",
            "an               : DT      DT\n",
            "american         : NNP     NNP\n",
            "express          : NNP     NNP\n",
            "spokeswoman      : NN      NN\n",
            ".                : .       .\n"
          ],
          "name": "stdout"
        }
      ]
    },
    {
      "cell_type": "code",
      "metadata": {
        "id": "5TsJOMeWzgSm"
      },
      "source": [
        "import re\n",
        "import matplotlib.pyplot as plt\n",
        "from tensorflow.keras.preprocessing.text import Tokenizer\n",
        "from tensorflow.keras.preprocessing.sequence import pad_sequences\n",
        "from sklearn.model_selection import train_test_split\n",
        "from tensorflow.keras.utils import to_categorical\n",
        "import numpy as np"
      ],
      "execution_count": 31,
      "outputs": []
    },
    {
      "cell_type": "code",
      "metadata": {
        "id": "lVn_0m1T5-KJ"
      },
      "source": [
        "f = open('/content/drive/MyDrive/dataset/NLP/train.txt', 'r')\n",
        "tagged_sentences = []\n",
        "sentence = []\n",
        "\n",
        "for line in f:\n",
        "  if len(line) == 0 or line.startswith('-DOCSTART') or line[0] == '\\n':\n",
        "    if len(sentence) > 0:\n",
        "      tagged_sentences.append(sentence)\n",
        "      sentence = []\n",
        "    continue\n",
        "\n",
        "  splits = line.split(' ')\n",
        "  splits[-1] = re.sub(r'\\n', '', splits[-1])\n",
        "  word = splits[0].lower()\n",
        "  sentence.append([word, splits[-1]])"
      ],
      "execution_count": 32,
      "outputs": []
    },
    {
      "cell_type": "code",
      "metadata": {
        "colab": {
          "base_uri": "https://localhost:8080/"
        },
        "id": "f5Dz0Z646wMV",
        "outputId": "3e21d2ea-8bae-4e33-9315-4f2b58374914"
      },
      "source": [
        "print(f'전체 샘플 갯수: {len(tagged_sentences)}')"
      ],
      "execution_count": 33,
      "outputs": [
        {
          "output_type": "stream",
          "text": [
            "전체 샘플 갯수: 14041\n"
          ],
          "name": "stdout"
        }
      ]
    },
    {
      "cell_type": "code",
      "metadata": {
        "colab": {
          "base_uri": "https://localhost:8080/"
        },
        "id": "ZWkoPb9e65CW",
        "outputId": "b5d22e80-6389-4f08-9a4d-6eaf618d4362"
      },
      "source": [
        "print(tagged_sentences[0])"
      ],
      "execution_count": 34,
      "outputs": [
        {
          "output_type": "stream",
          "text": [
            "[['eu', 'B-ORG'], ['rejects', 'O'], ['german', 'B-MISC'], ['call', 'O'], ['to', 'O'], ['boycott', 'O'], ['british', 'B-MISC'], ['lamb', 'O'], ['.', 'O']]\n"
          ],
          "name": "stdout"
        }
      ]
    },
    {
      "cell_type": "code",
      "metadata": {
        "id": "uWvZJAoP67VR"
      },
      "source": [
        "sentences, ner_tags = [], []\n",
        "for tagged_sentence in tagged_sentences:\n",
        "  sentence, tag_info = zip(*tagged_sentence)\n",
        "  sentences.append(list(sentence))\n",
        "  ner_tags.append(list(tag_info))"
      ],
      "execution_count": 36,
      "outputs": []
    },
    {
      "cell_type": "code",
      "metadata": {
        "colab": {
          "base_uri": "https://localhost:8080/"
        },
        "id": "GIiSaF5P7bmw",
        "outputId": "e76e6e85-c139-43c3-9b61-72c7a3d81a7f"
      },
      "source": [
        "print(sentences[0])\n",
        "print(ner_tags[0])"
      ],
      "execution_count": 37,
      "outputs": [
        {
          "output_type": "stream",
          "text": [
            "['eu', 'rejects', 'german', 'call', 'to', 'boycott', 'british', 'lamb', '.']\n",
            "['B-ORG', 'O', 'B-MISC', 'O', 'O', 'O', 'B-MISC', 'O', 'O']\n"
          ],
          "name": "stdout"
        }
      ]
    },
    {
      "cell_type": "code",
      "metadata": {
        "colab": {
          "base_uri": "https://localhost:8080/"
        },
        "id": "L--Nn0lM7k7t",
        "outputId": "8b8fcc5a-ff29-4962-dbc0-72a21c4764e4"
      },
      "source": [
        "print(sentences[20])\n",
        "print(ner_tags[20])"
      ],
      "execution_count": 38,
      "outputs": [
        {
          "output_type": "stream",
          "text": [
            "['rare', 'hendrix', 'song', 'draft', 'sells', 'for', 'almost', '$', '17,000', '.']\n",
            "['O', 'B-PER', 'O', 'O', 'O', 'O', 'O', 'O', 'O', 'O']\n"
          ],
          "name": "stdout"
        }
      ]
    },
    {
      "cell_type": "code",
      "metadata": {
        "colab": {
          "base_uri": "https://localhost:8080/",
          "height": 314
        },
        "id": "sl-oU6Y37oY1",
        "outputId": "3a43279c-5c7e-44b7-9420-382de87bc85d"
      },
      "source": [
        "print('샘플의 최대 길이: %d' % max(len(l) for l in sentences))\n",
        "print('샘플의 평균 길이: %f' % (sum(map(len, sentences))/len(sentences)))\n",
        "plt.hist([len(s) for s in sentences], bins = 50)\n",
        "plt.xlabel('length of samples')\n",
        "plt.ylabel('number of samples')\n",
        "plt.show()"
      ],
      "execution_count": 40,
      "outputs": [
        {
          "output_type": "stream",
          "text": [
            "샘플의 최대 길이: 113\n",
            "샘플의 평균 길이: 14.501887\n"
          ],
          "name": "stdout"
        },
        {
          "output_type": "display_data",
          "data": {
            "image/png": "[encoded data removed]",
            "text/plain": [
              "<Figure size 432x288 with 1 Axes>"
            ]
          },
          "metadata": {
            "tags": [],
            "needs_background": "light"
          }
        }
      ]
    },
    {
      "cell_type": "code",
      "metadata": {
        "id": "DOTC7UxC8EK4"
      },
      "source": [
        "max_words = 4000\n",
        "src_tokenizer = Tokenizer(num_words=max_words, oov_token = 'OOV')\n",
        "src_tokenizer.fit_on_texts(sentences)\n",
        "\n",
        "tar_tokenizer = Tokenizer()\n",
        "tar_tokenizer.fit_on_texts(ner_tags)"
      ],
      "execution_count": 41,
      "outputs": []
    },
    {
      "cell_type": "code",
      "metadata": {
        "colab": {
          "base_uri": "https://localhost:8080/"
        },
        "id": "es9TvIbz8cvm",
        "outputId": "51702da8-3651-4172-83a2-71963aee82a7"
      },
      "source": [
        "vocab_size = max_words\n",
        "tag_size = len(tar_tokenizer.word_index) + 1\n",
        "print(f'단어 집합의 크기: {vocab_size}')\n",
        "print(f'개체명 태깅 정보 집합의 크기: {tag_size}')"
      ],
      "execution_count": 43,
      "outputs": [
        {
          "output_type": "stream",
          "text": [
            "단어 집합의 크기: 4000\n",
            "개체명 태깅 정보 집합의 크기: 10\n"
          ],
          "name": "stdout"
        }
      ]
    },
    {
      "cell_type": "code",
      "metadata": {
        "id": "foOiC5YX8tms"
      },
      "source": [
        "x_train = src_tokenizer.texts_to_sequences(sentences)\n",
        "y_train = tar_tokenizer.texts_to_sequences(ner_tags)"
      ],
      "execution_count": 45,
      "outputs": []
    },
    {
      "cell_type": "code",
      "metadata": {
        "colab": {
          "base_uri": "https://localhost:8080/"
        },
        "id": "x3ModQIp8_q3",
        "outputId": "7c4c9414-582c-498e-9185-c789c511300c"
      },
      "source": [
        "print(x_train[0])\n",
        "print(y_train[0])"
      ],
      "execution_count": 47,
      "outputs": [
        {
          "output_type": "stream",
          "text": [
            "[989, 1, 205, 629, 7, 3939, 216, 1, 3]\n",
            "[4, 1, 7, 1, 1, 1, 7, 1, 1]\n"
          ],
          "name": "stdout"
        }
      ]
    },
    {
      "cell_type": "code",
      "metadata": {
        "id": "NfU9aQ3C9Hsb"
      },
      "source": [
        "index_to_word = src_tokenizer.index_word \n",
        "index_to_ner = tar_tokenizer.index_word"
      ],
      "execution_count": 51,
      "outputs": []
    },
    {
      "cell_type": "code",
      "metadata": {
        "colab": {
          "base_uri": "https://localhost:8080/"
        },
        "id": "B7Z_jeNq9YiJ",
        "outputId": "8fa213d0-faa5-44db-813b-303235ee81a2"
      },
      "source": [
        "decoded = []\n",
        "for index in x_train[0]:\n",
        "  decoded.append(index_to_word[index])\n",
        "\n",
        "print(f'기존 문장; {sentences[0]}')\n",
        "print(f'빈도수가 낮은 단어가 OOV로 처리된 문장: {decoded}')"
      ],
      "execution_count": 52,
      "outputs": [
        {
          "output_type": "stream",
          "text": [
            "기존 문장; ['eu', 'rejects', 'german', 'call', 'to', 'boycott', 'british', 'lamb', '.']\n",
            "빈도수가 낮은 단어가 OOV로 처리된 문장: ['eu', 'OOV', 'german', 'call', 'to', 'boycott', 'british', 'OOV', '.']\n"
          ],
          "name": "stdout"
        }
      ]
    },
    {
      "cell_type": "code",
      "metadata": {
        "id": "F9AmD2af9w2f"
      },
      "source": [
        "max_len = 70\n",
        "x_train = pad_sequences(x_train, padding='post', maxlen=max_len)\n",
        "y_train = pad_sequences(y_train, padding='post', maxlen=max_len)"
      ],
      "execution_count": 53,
      "outputs": []
    },
    {
      "cell_type": "code",
      "metadata": {
        "id": "z4sRcLFs-FWk"
      },
      "source": [
        "x_train, x_test, y_train, y_test = train_test_split(x_train, y_train, test_size = .2, random_state = 777)"
      ],
      "execution_count": 54,
      "outputs": []
    },
    {
      "cell_type": "code",
      "metadata": {
        "id": "NxdM9SpD-RPC"
      },
      "source": [
        "y_train = to_categorical(y_train, num_classes=tag_size)\n",
        "y_test = to_categorical(y_test, num_classes=tag_size)"
      ],
      "execution_count": 55,
      "outputs": []
    },
    {
      "cell_type": "code",
      "metadata": {
        "colab": {
          "base_uri": "https://localhost:8080/"
        },
        "id": "w1ud3RAo-fan",
        "outputId": "0e198945-0910-4e62-de73-51a4aea47f79"
      },
      "source": [
        "print(f'훈련 샘플 문장의 길이: {x_train.shape}')\n",
        "print(f'훈련 샘플 에이블의 길이: {y_train.shape}')\n",
        "print(f'테스트 샘플 문장의 길이: {x_test.shape}')\n",
        "print(f'테스트 새플 레이블의 길이: {y_test.shape}')"
      ],
      "execution_count": 56,
      "outputs": [
        {
          "output_type": "stream",
          "text": [
            "훈련 샘플 문장의 길이: (11232, 70)\n",
            "훈련 샘플 에이블의 길이: (11232, 70, 10)\n",
            "테스트 샘플 문장의 길이: (2809, 70)\n",
            "테스트 새플 레이블의 길이: (2809, 70, 10)\n"
          ],
          "name": "stdout"
        }
      ]
    },
    {
      "cell_type": "code",
      "metadata": {
        "id": "juFDkOpS-yg7"
      },
      "source": [
        "from keras.models import Sequential\n",
        "from keras.layers import Dense, Embedding, LSTM, Bidirectional, TimeDistributed\n",
        "from keras.optimizers import Adam"
      ],
      "execution_count": 57,
      "outputs": []
    },
    {
      "cell_type": "code",
      "metadata": {
        "id": "euxV-rlc_FCB"
      },
      "source": [
        "model = Sequential()\n",
        "model.add(Embedding(input_dim = vocab_size, output_dim=128, input_length=max_len, mask_zero = True))\n",
        "model.add(Bidirectional(LSTM(256, return_sequences=True)))\n",
        "model.add(TimeDistributed(Dense(tag_size, activation = 'softmax')))"
      ],
      "execution_count": 62,
      "outputs": []
    },
    {
      "cell_type": "code",
      "metadata": {
        "colab": {
          "base_uri": "https://localhost:8080/"
        },
        "id": "karUfSeR_jE1",
        "outputId": "f7bd9114-a188-4582-d303-8df2abc79cbe"
      },
      "source": [
        "model.compile(loss='categorical_crossentropy', optimizer=Adam(0.001), metrics=['accuracy'])\n",
        "model.fit(x_train, y_train, batch_size=128, epochs=8, validation_data=(x_test, y_test))"
      ],
      "execution_count": 63,
      "outputs": [
        {
          "output_type": "stream",
          "text": [
            "Epoch 1/8\n",
            "88/88 [==============================] - 13s 57ms/step - loss: 0.2606 - accuracy: 0.7884 - val_loss: 0.1336 - val_accuracy: 0.8327\n",
            "Epoch 2/8\n",
            "88/88 [==============================] - 2s 27ms/step - loss: 0.1167 - accuracy: 0.8389 - val_loss: 0.0786 - val_accuracy: 0.8795\n",
            "Epoch 3/8\n",
            "88/88 [==============================] - 2s 26ms/step - loss: 0.0738 - accuracy: 0.8928 - val_loss: 0.0555 - val_accuracy: 0.9204\n",
            "Epoch 4/8\n",
            "88/88 [==============================] - 2s 27ms/step - loss: 0.0520 - accuracy: 0.9264 - val_loss: 0.0425 - val_accuracy: 0.9416\n",
            "Epoch 5/8\n",
            "88/88 [==============================] - 2s 26ms/step - loss: 0.0394 - accuracy: 0.9443 - val_loss: 0.0358 - val_accuracy: 0.9496\n",
            "Epoch 6/8\n",
            "88/88 [==============================] - 2s 26ms/step - loss: 0.0303 - accuracy: 0.9569 - val_loss: 0.0331 - val_accuracy: 0.9528\n",
            "Epoch 7/8\n",
            "88/88 [==============================] - 2s 27ms/step - loss: 0.0262 - accuracy: 0.9626 - val_loss: 0.0315 - val_accuracy: 0.9544\n",
            "Epoch 8/8\n",
            "88/88 [==============================] - 3s 32ms/step - loss: 0.0226 - accuracy: 0.9675 - val_loss: 0.0317 - val_accuracy: 0.9568\n"
          ],
          "name": "stdout"
        },
        {
          "output_type": "execute_result",
          "data": {
            "text/plain": [
              "<keras.callbacks.History at 0x7fb17b8be090>"
            ]
          },
          "metadata": {
            "tags": []
          },
          "execution_count": 63
        }
      ]
    },
    {
      "cell_type": "code",
      "metadata": {
        "colab": {
          "base_uri": "https://localhost:8080/"
        },
        "id": "fzgeqhrV_1_n",
        "outputId": "3b880465-dffc-4b02-92c8-2b7781ddb3ae"
      },
      "source": [
        "print('테스트 정확도: %.4f' %(model.evaluate(x_test,y_test)[1]))"
      ],
      "execution_count": 64,
      "outputs": [
        {
          "output_type": "stream",
          "text": [
            "88/88 [==============================] - 1s 10ms/step - loss: 0.0317 - accuracy: 0.9568\n",
            "테스트 정확도: 0.9568\n"
          ],
          "name": "stdout"
        }
      ]
    },
    {
      "cell_type": "code",
      "metadata": {
        "colab": {
          "base_uri": "https://localhost:8080/"
        },
        "id": "olrgOI3vALvJ",
        "outputId": "e9fe2295-dd1c-4ba7-b467-03ebf645269d"
      },
      "source": [
        "i = 55\n",
        "y_pred = model.predict(np.array([x_test[i]]))\n",
        "y_pred = np.argmax(y_pred, axis= -1)\n",
        "true = np.argmax(y_test[i], -1)\n",
        "\n",
        "print(\"{:15}|{:5}|{}\".format(\"단어\", \"실제값\", \"예측값\"))\n",
        "print(35 * \"-\")\n",
        "\n",
        "for w, t, pred in zip(x_test[i], true, y_pred[0]):\n",
        "  if w != 0: #PAD제외\n",
        "    print(\"{:17}: {:7} {}\".format(index_to_word[w], index_to_ner[t].upper(), index_to_ner[pred].upper()))"
      ],
      "execution_count": 71,
      "outputs": [
        {
          "output_type": "stream",
          "text": [
            "단어             |실제값  |예측값\n",
            "-----------------------------------\n",
            "bob              : B-PER   B-PER\n",
            "dole             : I-PER   I-PER\n",
            ",                : O       O\n",
            "the              : O       O\n",
            "republican       : B-MISC  B-MISC\n",
            "presidential     : O       O\n",
            "OOV              : O       O\n",
            ",                : O       O\n",
            "tried            : O       O\n",
            "and              : O       O\n",
            "failed           : O       O\n",
            "to               : O       O\n",
            "OOV              : O       O\n",
            "a                : O       O\n",
            "OOV              : O       O\n",
            "OOV              : O       O\n",
            "in               : O       O\n",
            "his              : O       O\n",
            "party            : O       O\n",
            "'s               : O       O\n",
            "OOV              : O       O\n",
            "OOV              : O       O\n",
            "the              : O       O\n",
            "OOV              : O       O\n",
            "of               : O       O\n",
            "those            : O       O\n",
            "within           : O       O\n",
            "the              : O       O\n",
            "party            : O       O\n",
            "who              : O       O\n",
            "OOV              : O       O\n",
            "abortion         : O       O\n",
            "rights           : O       O\n",
            ".                : O       O\n"
          ],
          "name": "stdout"
        }
      ]
    },
    {
      "cell_type": "code",
      "metadata": {
        "id": "qwpZJzl9A6_j"
      },
      "source": [
        ""
      ],
      "execution_count": null,
      "outputs": []
    }
  ]
}