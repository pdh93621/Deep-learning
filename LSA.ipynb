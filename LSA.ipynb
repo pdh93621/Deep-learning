{
  "nbformat": 4,
  "nbformat_minor": 0,
  "metadata": {
    "colab": {
      "name": "LSA.ipynb",
      "provenance": [],
      "authorship_tag": "ABX9TyMDKtcZ4tBBE8xfWV+580F+",
      "include_colab_link": true
    },
    "kernelspec": {
      "name": "python3",
      "display_name": "Python 3"
    },
    "language_info": {
      "name": "python"
    }
  },
  "cells": [
    {
      "cell_type": "markdown",
      "metadata": {
        "id": "view-in-github",
        "colab_type": "text"
      },
      "source": [
        "<a href=\"https://colab.research.google.com/github/pdh93621/Deep-learning/blob/main/LSA.ipynb\" target=\"_parent\"><img src=\"https://colab.research.google.com/assets/colab-badge.svg\" alt=\"Open In Colab\"/></a>"
      ]
    },
    {
      "cell_type": "markdown",
      "metadata": {
        "id": "cGoJ50py2IjM"
      },
      "source": [
        "## LSA(잠재 의미 분석)\n"
      ]
    },
    {
      "cell_type": "code",
      "metadata": {
        "id": "XE2yBrMy2Hrd"
      },
      "source": [
        "import numpy as np\n",
        "import pandas as pd\n",
        "import urllib.request"
      ],
      "execution_count": 44,
      "outputs": []
    },
    {
      "cell_type": "code",
      "metadata": {
        "id": "eyWXF_o227i7"
      },
      "source": [
        "from sklearn.feature_extraction.text import CountVectorizer"
      ],
      "execution_count": 45,
      "outputs": []
    },
    {
      "cell_type": "code",
      "metadata": {
        "id": "4_RXaKlJ3Cub"
      },
      "source": [
        "from sklearn.feature_extraction.text import TfidfVectorizer\n",
        "import nltk"
      ],
      "execution_count": 46,
      "outputs": []
    },
    {
      "cell_type": "code",
      "metadata": {
        "id": "aK1M8-pF3Jow"
      },
      "source": [
        "from nltk.corpus import stopwords\n",
        "from nltk.stem import WordNetLemmatizer"
      ],
      "execution_count": 47,
      "outputs": []
    },
    {
      "cell_type": "code",
      "metadata": {
        "colab": {
          "base_uri": "https://localhost:8080/"
        },
        "id": "pbWQswgX3QIK",
        "outputId": "38745dbd-ca54-4c55-e654-e22b46cc949e"
      },
      "source": [
        "nltk.download('punkt')\n",
        "nltk.download('wordnet')\n",
        "nltk.download('stopwords')"
      ],
      "execution_count": 48,
      "outputs": [
        {
          "output_type": "stream",
          "text": [
            "[nltk_data] Downloading package punkt to /root/nltk_data...\n",
            "[nltk_data]   Package punkt is already up-to-date!\n",
            "[nltk_data] Downloading package wordnet to /root/nltk_data...\n",
            "[nltk_data]   Package wordnet is already up-to-date!\n",
            "[nltk_data] Downloading package stopwords to /root/nltk_data...\n",
            "[nltk_data]   Package stopwords is already up-to-date!\n"
          ],
          "name": "stdout"
        },
        {
          "output_type": "execute_result",
          "data": {
            "text/plain": [
              "True"
            ]
          },
          "metadata": {
            "tags": []
          },
          "execution_count": 48
        }
      ]
    },
    {
      "cell_type": "code",
      "metadata": {
        "colab": {
          "base_uri": "https://localhost:8080/"
        },
        "id": "6_97V9BF3YB3",
        "outputId": "0fd792b7-a735-444a-f6e3-bdbad745e927"
      },
      "source": [
        "urllib.request.urlretrieve(\"https://raw.githubusercontent.com/franciscadias/data/master/abcnews-date-text.csv\",\n",
        "                           filename=\"/content/abcnews-data-text.csv\")\n"
      ],
      "execution_count": 49,
      "outputs": [
        {
          "output_type": "execute_result",
          "data": {
            "text/plain": [
              "('/content/abcnews-data-text.csv', <http.client.HTTPMessage at 0x7f639d574c90>)"
            ]
          },
          "metadata": {
            "tags": []
          },
          "execution_count": 49
        }
      ]
    },
    {
      "cell_type": "code",
      "metadata": {
        "id": "YAazeW1W5M5a"
      },
      "source": [
        "csv_filename = '/content/abcnews-data-text.csv'"
      ],
      "execution_count": 50,
      "outputs": []
    },
    {
      "cell_type": "code",
      "metadata": {
        "id": "EElLtiQ05guK"
      },
      "source": [
        "data = pd.read_csv(csv_filename, error_bad_lines= False)"
      ],
      "execution_count": 51,
      "outputs": []
    },
    {
      "cell_type": "code",
      "metadata": {
        "colab": {
          "base_uri": "https://localhost:8080/"
        },
        "id": "s9jMBkiC5nx6",
        "outputId": "dfae817b-5e8d-42fc-dabf-ecbd4064e646"
      },
      "source": [
        "data.columns"
      ],
      "execution_count": 52,
      "outputs": [
        {
          "output_type": "execute_result",
          "data": {
            "text/plain": [
              "Index(['publish_date', 'headline_text'], dtype='object')"
            ]
          },
          "metadata": {
            "tags": []
          },
          "execution_count": 52
        }
      ]
    },
    {
      "cell_type": "code",
      "metadata": {
        "id": "SNdOJyb_52KM"
      },
      "source": [
        "text = data[['headline_text']]"
      ],
      "execution_count": 53,
      "outputs": []
    },
    {
      "cell_type": "code",
      "metadata": {
        "colab": {
          "base_uri": "https://localhost:8080/",
          "height": 417
        },
        "id": "RXqm_3KU6Jg-",
        "outputId": "491b7303-bd93-428c-98d0-1313b586167a"
      },
      "source": [
        "text"
      ],
      "execution_count": 54,
      "outputs": [
        {
          "output_type": "execute_result",
          "data": {
            "text/html": [
              "<div>\n",
              "<style scoped>\n",
              "    .dataframe tbody tr th:only-of-type {\n",
              "        vertical-align: middle;\n",
              "    }\n",
              "\n",
              "    .dataframe tbody tr th {\n",
              "        vertical-align: top;\n",
              "    }\n",
              "\n",
              "    .dataframe thead th {\n",
              "        text-align: right;\n",
              "    }\n",
              "</style>\n",
              "<table border=\"1\" class=\"dataframe\">\n",
              "  <thead>\n",
              "    <tr style=\"text-align: right;\">\n",
              "      <th></th>\n",
              "      <th>headline_text</th>\n",
              "    </tr>\n",
              "  </thead>\n",
              "  <tbody>\n",
              "    <tr>\n",
              "      <th>0</th>\n",
              "      <td>aba decides against community broadcasting lic...</td>\n",
              "    </tr>\n",
              "    <tr>\n",
              "      <th>1</th>\n",
              "      <td>act fire witnesses must be aware of defamation</td>\n",
              "    </tr>\n",
              "    <tr>\n",
              "      <th>2</th>\n",
              "      <td>a g calls for infrastructure protection summit</td>\n",
              "    </tr>\n",
              "    <tr>\n",
              "      <th>3</th>\n",
              "      <td>air nz staff in aust strike for pay rise</td>\n",
              "    </tr>\n",
              "    <tr>\n",
              "      <th>4</th>\n",
              "      <td>air nz strike to affect australian travellers</td>\n",
              "    </tr>\n",
              "    <tr>\n",
              "      <th>...</th>\n",
              "      <td>...</td>\n",
              "    </tr>\n",
              "    <tr>\n",
              "      <th>1082163</th>\n",
              "      <td>when is it ok to compliment a womans smile a g...</td>\n",
              "    </tr>\n",
              "    <tr>\n",
              "      <th>1082164</th>\n",
              "      <td>white house defends trumps tweet</td>\n",
              "    </tr>\n",
              "    <tr>\n",
              "      <th>1082165</th>\n",
              "      <td>winter closes in on tasmania as snow ice falls</td>\n",
              "    </tr>\n",
              "    <tr>\n",
              "      <th>1082166</th>\n",
              "      <td>womens world cup australia wins despite atapat...</td>\n",
              "    </tr>\n",
              "    <tr>\n",
              "      <th>1082167</th>\n",
              "      <td>youtube stunt death foreshadowed by tweet</td>\n",
              "    </tr>\n",
              "  </tbody>\n",
              "</table>\n",
              "<p>1082168 rows × 1 columns</p>\n",
              "</div>"
            ],
            "text/plain": [
              "                                             headline_text\n",
              "0        aba decides against community broadcasting lic...\n",
              "1           act fire witnesses must be aware of defamation\n",
              "2           a g calls for infrastructure protection summit\n",
              "3                 air nz staff in aust strike for pay rise\n",
              "4            air nz strike to affect australian travellers\n",
              "...                                                    ...\n",
              "1082163  when is it ok to compliment a womans smile a g...\n",
              "1082164                   white house defends trumps tweet\n",
              "1082165     winter closes in on tasmania as snow ice falls\n",
              "1082166  womens world cup australia wins despite atapat...\n",
              "1082167          youtube stunt death foreshadowed by tweet\n",
              "\n",
              "[1082168 rows x 1 columns]"
            ]
          },
          "metadata": {
            "tags": []
          },
          "execution_count": 54
        }
      ]
    },
    {
      "cell_type": "code",
      "metadata": {
        "colab": {
          "base_uri": "https://localhost:8080/"
        },
        "id": "JQ8EG_3S6KWf",
        "outputId": "8f1b18aa-87bf-47b3-bdff-d0c3de640210"
      },
      "source": [
        "text.nunique()"
      ],
      "execution_count": 55,
      "outputs": [
        {
          "output_type": "execute_result",
          "data": {
            "text/plain": [
              "headline_text    1054983\n",
              "dtype: int64"
            ]
          },
          "metadata": {
            "tags": []
          },
          "execution_count": 55
        }
      ]
    },
    {
      "cell_type": "code",
      "metadata": {
        "colab": {
          "base_uri": "https://localhost:8080/"
        },
        "id": "Z_h9Y4nW6RIp",
        "outputId": "c7bc4c30-1853-49d6-8eb5-d3100a49efce"
      },
      "source": [
        "# 중복 제거\n",
        "text.drop_duplicates(inplace=True)\n",
        "text = text.reset_index(drop=True)\n",
        "print(len(text))"
      ],
      "execution_count": 56,
      "outputs": [
        {
          "output_type": "stream",
          "text": [
            "1054983\n"
          ],
          "name": "stdout"
        },
        {
          "output_type": "stream",
          "text": [
            "/usr/local/lib/python3.7/dist-packages/ipykernel_launcher.py:2: SettingWithCopyWarning: \n",
            "A value is trying to be set on a copy of a slice from a DataFrame\n",
            "\n",
            "See the caveats in the documentation: https://pandas.pydata.org/pandas-docs/stable/user_guide/indexing.html#returning-a-view-versus-a-copy\n",
            "  \n"
          ],
          "name": "stderr"
        }
      ]
    },
    {
      "cell_type": "markdown",
      "metadata": {
        "id": "vxCc1nt66mcw"
      },
      "source": [
        "데이터 정제 및 정규화"
      ]
    },
    {
      "cell_type": "code",
      "metadata": {
        "id": "wSv_K0Fv6hrr"
      },
      "source": [
        "text['headline_text'] = text.apply(lambda row: nltk.word_tokenize(row['headline_text']),axis = 1)"
      ],
      "execution_count": 57,
      "outputs": []
    },
    {
      "cell_type": "code",
      "metadata": {
        "id": "sGVhIhxM62yK"
      },
      "source": [
        "# 불용어 제거\n",
        "stop_words = stopwords.words('english')\n",
        "text['headline_text'] = text['headline_text'].apply(lambda x: [word for word in x if word not in (stop_words)])"
      ],
      "execution_count": 58,
      "outputs": []
    },
    {
      "cell_type": "code",
      "metadata": {
        "colab": {
          "base_uri": "https://localhost:8080/",
          "height": 203
        },
        "id": "o_l-InSe7lpE",
        "outputId": "ec17aef9-55fe-43cf-f5cc-20d6887af1a6"
      },
      "source": [
        "text.head()"
      ],
      "execution_count": 59,
      "outputs": [
        {
          "output_type": "execute_result",
          "data": {
            "text/html": [
              "<div>\n",
              "<style scoped>\n",
              "    .dataframe tbody tr th:only-of-type {\n",
              "        vertical-align: middle;\n",
              "    }\n",
              "\n",
              "    .dataframe tbody tr th {\n",
              "        vertical-align: top;\n",
              "    }\n",
              "\n",
              "    .dataframe thead th {\n",
              "        text-align: right;\n",
              "    }\n",
              "</style>\n",
              "<table border=\"1\" class=\"dataframe\">\n",
              "  <thead>\n",
              "    <tr style=\"text-align: right;\">\n",
              "      <th></th>\n",
              "      <th>headline_text</th>\n",
              "    </tr>\n",
              "  </thead>\n",
              "  <tbody>\n",
              "    <tr>\n",
              "      <th>0</th>\n",
              "      <td>[aba, decides, community, broadcasting, licence]</td>\n",
              "    </tr>\n",
              "    <tr>\n",
              "      <th>1</th>\n",
              "      <td>[act, fire, witnesses, must, aware, defamation]</td>\n",
              "    </tr>\n",
              "    <tr>\n",
              "      <th>2</th>\n",
              "      <td>[g, calls, infrastructure, protection, summit]</td>\n",
              "    </tr>\n",
              "    <tr>\n",
              "      <th>3</th>\n",
              "      <td>[air, nz, staff, aust, strike, pay, rise]</td>\n",
              "    </tr>\n",
              "    <tr>\n",
              "      <th>4</th>\n",
              "      <td>[air, nz, strike, affect, australian, travellers]</td>\n",
              "    </tr>\n",
              "  </tbody>\n",
              "</table>\n",
              "</div>"
            ],
            "text/plain": [
              "                                       headline_text\n",
              "0   [aba, decides, community, broadcasting, licence]\n",
              "1    [act, fire, witnesses, must, aware, defamation]\n",
              "2     [g, calls, infrastructure, protection, summit]\n",
              "3          [air, nz, staff, aust, strike, pay, rise]\n",
              "4  [air, nz, strike, affect, australian, travellers]"
            ]
          },
          "metadata": {
            "tags": []
          },
          "execution_count": 59
        }
      ]
    },
    {
      "cell_type": "code",
      "metadata": {
        "id": "Jyn84vg87r7z"
      },
      "source": [
        "# 단어 정규화 과정 길이가 1~2인 단어는 제거하는 전처리\n",
        "# 단어 정규화 3인칭 단수 표현 -> 1인칭 변환, 과거형 동사 -> 현재형 동사등을 수행\n",
        "text['headline_text'] = text['headline_text'].apply(lambda x: [WordNetLemmatizer().lemmatize(word, pos='v') for word in x])"
      ],
      "execution_count": 60,
      "outputs": []
    },
    {
      "cell_type": "code",
      "metadata": {
        "colab": {
          "base_uri": "https://localhost:8080/"
        },
        "id": "RHpfkEbw8DP0",
        "outputId": "ec9f1823-6b2e-4bb1-b558-f2f513996462"
      },
      "source": [
        "# 길이가 1~2인 단어를 제거\n",
        "text = text['headline_text'].apply(lambda x: [word for word in x if len(word) > 2])\n",
        "print(text[:5])"
      ],
      "execution_count": 61,
      "outputs": [
        {
          "output_type": "stream",
          "text": [
            "0     [aba, decide, community, broadcast, licence]\n",
            "1    [act, fire, witness, must, aware, defamation]\n",
            "2       [call, infrastructure, protection, summit]\n",
            "3            [air, staff, aust, strike, pay, rise]\n",
            "4    [air, strike, affect, australian, travellers]\n",
            "Name: headline_text, dtype: object\n"
          ],
          "name": "stdout"
        }
      ]
    },
    {
      "cell_type": "code",
      "metadata": {
        "id": "4bg7LLAl8i4l"
      },
      "source": [
        "# 역토큰화\n",
        "detokenized_doc = []\n",
        "for i in range(len(text)):\n",
        "  t = ' '.join(text[i])\n",
        "  detokenized_doc.append(t)\n",
        "\n",
        "train_data = detokenized_doc\n"
      ],
      "execution_count": 62,
      "outputs": []
    },
    {
      "cell_type": "code",
      "metadata": {
        "colab": {
          "base_uri": "https://localhost:8080/"
        },
        "id": "6B3VEa7U9CCn",
        "outputId": "48b05118-075b-48a6-a1a2-835556385ac6"
      },
      "source": [
        "train_data[:5]"
      ],
      "execution_count": 63,
      "outputs": [
        {
          "output_type": "execute_result",
          "data": {
            "text/plain": [
              "['aba decide community broadcast licence',\n",
              " 'act fire witness must aware defamation',\n",
              " 'call infrastructure protection summit',\n",
              " 'air staff aust strike pay rise',\n",
              " 'air strike affect australian travellers']"
            ]
          },
          "metadata": {
            "tags": []
          },
          "execution_count": 63
        }
      ]
    },
    {
      "cell_type": "code",
      "metadata": {
        "id": "kA-3uIbU9Di5"
      },
      "source": [
        "# 상위 5000개의 단어만 사용\n",
        "c_vectorizer = CountVectorizer(stop_words ='english', max_features = 5000)\n",
        "document_term_matrix = c_vectorizer.fit_transform(train_data)"
      ],
      "execution_count": 64,
      "outputs": []
    },
    {
      "cell_type": "code",
      "metadata": {
        "colab": {
          "base_uri": "https://localhost:8080/"
        },
        "id": "--NUp56Y9ZLx",
        "outputId": "39b1fe1e-0bc4-418e-a53c-91be77aafbc7"
      },
      "source": [
        "# DTM의 크기\n",
        "print(f'행렬의 크기: {document_term_matrix.shape}') # 문서의 수 * 단어 집합의 크기"
      ],
      "execution_count": 65,
      "outputs": [
        {
          "output_type": "stream",
          "text": [
            "행렬의 크기: (1054983, 5000)\n"
          ],
          "name": "stdout"
        }
      ]
    },
    {
      "cell_type": "markdown",
      "metadata": {
        "id": "uwDlW1JT9vWv"
      },
      "source": [
        "## scikit-learn TruncateSVD 활용"
      ]
    },
    {
      "cell_type": "code",
      "metadata": {
        "colab": {
          "base_uri": "https://localhost:8080/"
        },
        "id": "bTbPioMO9jBA",
        "outputId": "507255be-35ad-4b48-e14c-fb28e854a6eb"
      },
      "source": [
        "from sklearn.decomposition import TruncatedSVD\n",
        "\n",
        "n_topics = 10\n",
        "lsa_model = TruncatedSVD(n_components = n_topics)\n",
        "lsa_model.fit_transform(document_term_matrix)"
      ],
      "execution_count": 66,
      "outputs": [
        {
          "output_type": "execute_result",
          "data": {
            "text/plain": [
              "array([[ 1.20387553e-02, -3.66461716e-03,  1.84857705e-02, ...,\n",
              "         5.92283300e-03,  1.00999177e-03,  1.63185093e-02],\n",
              "       [ 2.90696575e-02, -1.09895684e-02,  1.82141845e-02, ...,\n",
              "         2.48063812e-03, -1.00012290e-02,  5.74007373e-04],\n",
              "       [ 5.03771554e-03, -2.03766817e-03,  9.82190391e-03, ...,\n",
              "        -1.20021287e-03,  2.68521612e-03,  4.85887241e-03],\n",
              "       ...,\n",
              "       [ 2.95510130e-02,  5.12081512e-03,  2.53073083e-02, ...,\n",
              "         2.86190546e-02,  1.80304744e-02,  1.77090174e-02],\n",
              "       [ 6.21626939e-02, -9.17194009e-03,  1.31732484e-01, ...,\n",
              "         9.31510895e-01,  8.01212719e-01, -4.64605005e-01],\n",
              "       [ 7.14991972e-02,  2.72351890e-02, -1.10558444e-03, ...,\n",
              "         5.14503351e-02,  3.28881908e-02, -3.45196857e-02]])"
            ]
          },
          "metadata": {
            "tags": []
          },
          "execution_count": 66
        }
      ]
    },
    {
      "cell_type": "code",
      "metadata": {
        "colab": {
          "base_uri": "https://localhost:8080/"
        },
        "id": "gtSObRU1-Lg4",
        "outputId": "c2b02bb5-7f3d-46af-dac9-ab957bade3d5"
      },
      "source": [
        "print(np.shape(lsa_model.components_))"
      ],
      "execution_count": 67,
      "outputs": [
        {
          "output_type": "stream",
          "text": [
            "(10, 5000)\n"
          ],
          "name": "stdout"
        }
      ]
    },
    {
      "cell_type": "code",
      "metadata": {
        "id": "oYFt9Ov_-TAS"
      },
      "source": [
        "term = c_vectorizer.get_feature_names()"
      ],
      "execution_count": 68,
      "outputs": []
    },
    {
      "cell_type": "code",
      "metadata": {
        "id": "TJUsa6m_-b2D"
      },
      "source": [
        "def get_topics(components, feature_names, n =5):\n",
        "  for idx, topic in enumerate(components):\n",
        "    print('Topic %d' %(idx+1),[(feature_names[i],topic[i].round(5)) for i in topic.argsort()[:-n - 1:-1]])"
      ],
      "execution_count": 69,
      "outputs": []
    },
    {
      "cell_type": "code",
      "metadata": {
        "colab": {
          "base_uri": "https://localhost:8080/"
        },
        "id": "iQTlOrZZ_GCX",
        "outputId": "db4d9926-8882-40ac-e4e4-a3e87b635acc"
      },
      "source": [
        "get_topics(lsa_model.components_,term)"
      ],
      "execution_count": 70,
      "outputs": [
        {
          "output_type": "stream",
          "text": [
            "Topic 1 [('police', 0.74635), ('man', 0.45357), ('charge', 0.21092), ('new', 0.1409), ('court', 0.11141)]\n",
            "Topic 2 [('man', 0.69424), ('charge', 0.30041), ('court', 0.16911), ('face', 0.11246), ('murder', 0.10686)]\n",
            "Topic 3 [('new', 0.83643), ('plan', 0.23659), ('say', 0.18243), ('govt', 0.1095), ('council', 0.1085)]\n",
            "Topic 4 [('say', 0.74017), ('plan', 0.35896), ('govt', 0.16576), ('council', 0.12645), ('urge', 0.07243)]\n",
            "Topic 5 [('plan', 0.73443), ('council', 0.17463), ('govt', 0.14345), ('urge', 0.08023), ('water', 0.06701)]\n",
            "Topic 6 [('govt', 0.54038), ('court', 0.27435), ('urge', 0.24431), ('fund', 0.19284), ('nsw', 0.16639)]\n",
            "Topic 7 [('charge', 0.52949), ('court', 0.43207), ('face', 0.35924), ('murder', 0.11759), ('plan', 0.11393)]\n",
            "Topic 8 [('win', 0.59268), ('court', 0.3663), ('kill', 0.18065), ('crash', 0.14694), ('face', 0.11462)]\n",
            "Topic 9 [('win', 0.59908), ('charge', 0.47901), ('australia', 0.07099), ('qld', 0.06368), ('cup', 0.06358)]\n",
            "Topic 10 [('council', 0.70156), ('kill', 0.28775), ('charge', 0.14819), ('crash', 0.13466), ('change', 0.10724)]\n"
          ],
          "name": "stdout"
        }
      ]
    },
    {
      "cell_type": "markdown",
      "metadata": {
        "id": "6evK4RsBCusd"
      },
      "source": [
        "##LDA"
      ]
    },
    {
      "cell_type": "code",
      "metadata": {
        "colab": {
          "base_uri": "https://localhost:8080/"
        },
        "id": "BbE67BGW_NF9",
        "outputId": "d9c59e9d-e002-4f3f-8a9d-013eac7908ac"
      },
      "source": [
        "#TF-IDF 생성\n",
        "#상위 5000개의 단어만 사용\n",
        "tfidf_vectorizer = TfidfVectorizer(stop_words='english', max_features=5000)\n",
        "tf_idf_matrix = tfidf_vectorizer.fit_transform(train_data)\n",
        "\n",
        "print('matrix size:', tf_idf_matrix.shape)"
      ],
      "execution_count": 71,
      "outputs": [
        {
          "output_type": "stream",
          "text": [
            "matrix size: (1054983, 5000)\n"
          ],
          "name": "stdout"
        }
      ]
    },
    {
      "cell_type": "code",
      "metadata": {
        "colab": {
          "base_uri": "https://localhost:8080/"
        },
        "id": "S-7-PRDlDshK",
        "outputId": "502dd214-8e70-42ec-b3f3-1e3824ec2c3f"
      },
      "source": [
        "from sklearn.decomposition import LatentDirichletAllocation\n",
        "lda_model = LatentDirichletAllocation(n_components = 10, learning_method = 'online', random_state = 777, max_iter = 1)\n",
        "lda_model.fit_transform(tf_idf_matrix)"
      ],
      "execution_count": 72,
      "outputs": [
        {
          "output_type": "execute_result",
          "data": {
            "text/plain": [
              "array([[0.0335099 , 0.0335099 , 0.0335099 , ..., 0.17024867, 0.0335099 ,\n",
              "        0.0335099 ],\n",
              "       [0.03365631, 0.03365631, 0.03365631, ..., 0.03365631, 0.03365631,\n",
              "        0.03365631],\n",
              "       [0.25184095, 0.0366096 , 0.0366096 , ..., 0.0366096 , 0.0366096 ,\n",
              "        0.0366096 ],\n",
              "       ...,\n",
              "       [0.26687206, 0.02914502, 0.02914502, ..., 0.13007484, 0.02916018,\n",
              "        0.28739608],\n",
              "       [0.10378115, 0.02637829, 0.12325014, ..., 0.02637829, 0.02637829,\n",
              "        0.02637829],\n",
              "       [0.03376055, 0.03376055, 0.2255442 , ..., 0.03376055, 0.03376055,\n",
              "        0.03376055]])"
            ]
          },
          "metadata": {
            "tags": []
          },
          "execution_count": 72
        }
      ]
    },
    {
      "cell_type": "code",
      "metadata": {
        "colab": {
          "base_uri": "https://localhost:8080/"
        },
        "id": "JvOxYJ30EHM6",
        "outputId": "3299d0f0-6938-4a17-f0f0-7a4a83df7592"
      },
      "source": [
        "print(np.shape(lda_model.components_))"
      ],
      "execution_count": 73,
      "outputs": [
        {
          "output_type": "stream",
          "text": [
            "(10, 5000)\n"
          ],
          "name": "stdout"
        }
      ]
    },
    {
      "cell_type": "code",
      "metadata": {
        "colab": {
          "base_uri": "https://localhost:8080/"
        },
        "id": "01IgDZs5FG31",
        "outputId": "90fce473-babe-4e00-8cb3-6017114fd860"
      },
      "source": [
        "def get_topic2(components, feature_names, n =5):\n",
        "  for idx, topic in enumerate(components):\n",
        "    print('Topic %d' %(idx+1),[(feature_names[i],topic[i].round(5)) for i in topic.argsort()[:-n - 1:-1]])\n",
        "\n",
        "get_topics(lda_model.components_,term)"
      ],
      "execution_count": 74,
      "outputs": [
        {
          "output_type": "stream",
          "text": [
            "Topic 1 [('australia', 9359.06334), ('sydney', 5854.97288), ('attack', 4784.76322), ('change', 4193.63035), ('year', 3924.88997)]\n",
            "Topic 2 [('government', 6344.07413), ('charge', 5947.12292), ('man', 4519.7974), ('state', 3658.16422), ('live', 3625.10473)]\n",
            "Topic 3 [('australian', 7666.65651), ('say', 7561.01807), ('police', 5513.22932), ('home', 4048.38409), ('report', 3796.04446)]\n",
            "Topic 4 [('melbourne', 5298.35047), ('south', 4844.59835), ('death', 4281.78433), ('china', 3214.44581), ('women', 3029.28443)]\n",
            "Topic 5 [('win', 5704.0914), ('canberra', 4322.0963), ('die', 4025.63057), ('open', 3771.65243), ('warn', 3577.47151)]\n",
            "Topic 6 [('court', 5246.3124), ('world', 4536.86331), ('country', 4166.34794), ('woman', 3983.97748), ('crash', 3793.50267)]\n",
            "Topic 7 [('election', 5418.5038), ('adelaide', 4864.95604), ('house', 4478.6135), ('school', 3966.82676), ('2016', 3955.11155)]\n",
            "Topic 8 [('trump', 8189.58575), ('new', 6625.2724), ('north', 3705.40987), ('rural', 3521.42659), ('donald', 3356.26657)]\n",
            "Topic 9 [('perth', 4552.8151), ('kill', 4093.61782), ('break', 2695.71958), ('budget', 2596.93268), ('children', 2586.01957)]\n",
            "Topic 10 [('queensland', 5552.68506), ('coast', 3825.32603), ('tasmanian', 3550.75997), ('shoot', 3185.71575), ('service', 2695.21462)]\n"
          ],
          "name": "stdout"
        }
      ]
    },
    {
      "cell_type": "code",
      "metadata": {
        "id": "4V4EGdsrFlxU"
      },
      "source": [
        ""
      ],
      "execution_count": null,
      "outputs": []
    }
  ]
}