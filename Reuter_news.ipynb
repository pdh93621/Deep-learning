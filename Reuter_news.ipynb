{
  "nbformat": 4,
  "nbformat_minor": 0,
  "metadata": {
    "colab": {
      "name": "Reuter_news.ipynb",
      "provenance": [],
      "authorship_tag": "ABX9TyNvpbVZf5FdEGbUq0QLapCf",
      "include_colab_link": true
    },
    "kernelspec": {
      "name": "python3",
      "display_name": "Python 3"
    },
    "language_info": {
      "name": "python"
    },
    "accelerator": "GPU"
  },
  "cells": [
    {
      "cell_type": "markdown",
      "metadata": {
        "id": "view-in-github",
        "colab_type": "text"
      },
      "source": [
        "<a href=\"https://colab.research.google.com/github/pdh93621/Deep-learning/blob/NLP/Reuter_news.ipynb\" target=\"_parent\"><img src=\"https://colab.research.google.com/assets/colab-badge.svg\" alt=\"Open In Colab\"/></a>"
      ]
    },
    {
      "cell_type": "code",
      "metadata": {
        "id": "GjEiUmNANXqg"
      },
      "source": [
        "from tensorflow.keras.datasets import reuters\n",
        "%matplotlib inline\n",
        "import numpy as np\n",
        "from keras.preprocessing.text import Tokenizer\n",
        "from tensorflow.keras.utils import to_categorical\n",
        "from sklearn.feature_extraction.text import TfidfVectorizer\n",
        "from keras import layers, models, callbacks\n",
        "from keras.layers.core import Dense, Dropout"
      ],
      "execution_count": 1,
      "outputs": []
    },
    {
      "cell_type": "code",
      "metadata": {
        "colab": {
          "base_uri": "https://localhost:8080/"
        },
        "id": "dgKT-xYhR0eJ",
        "outputId": "5434b494-f3fe-4960-db2f-846ebd527597"
      },
      "source": [
        "(x_train, y_train), (x_test, y_test) = reuters.load_data(num_words=None, test_split=0.2)\n",
        "t = Tokenizer(num_words=30000)\n",
        "t.fit_on_sequences(x_train.tolist())\n",
        "t.fit_on_sequences(x_test.tolist())\n",
        "x_train = np.asarray(t.sequences_to_matrix(x_train.tolist(), mode=\"tfidf\"))\n",
        "x_test = np.asarray(t.sequences_to_matrix(x_test.tolist(), mode=\"tfidf\"))"
      ],
      "execution_count": 2,
      "outputs": [
        {
          "output_type": "stream",
          "text": [
            "/usr/local/lib/python3.7/dist-packages/tensorflow/python/keras/datasets/reuters.py:143: VisibleDeprecationWarning: Creating an ndarray from ragged nested sequences (which is a list-or-tuple of lists-or-tuples-or ndarrays with different lengths or shapes) is deprecated. If you meant to do this, you must specify 'dtype=object' when creating the ndarray\n",
            "  x_train, y_train = np.array(xs[:idx]), np.array(labels[:idx])\n",
            "/usr/local/lib/python3.7/dist-packages/tensorflow/python/keras/datasets/reuters.py:144: VisibleDeprecationWarning: Creating an ndarray from ragged nested sequences (which is a list-or-tuple of lists-or-tuples-or ndarrays with different lengths or shapes) is deprecated. If you meant to do this, you must specify 'dtype=object' when creating the ndarray\n",
            "  x_test, y_test = np.array(xs[idx:]), np.array(labels[idx:])\n"
          ],
          "name": "stderr"
        }
      ]
    },
    {
      "cell_type": "code",
      "metadata": {
        "id": "PNWtcd2bTnnA"
      },
      "source": [
        "y_train = to_categorical(y_train)\n",
        "y_test = to_categorical(y_test)"
      ],
      "execution_count": 3,
      "outputs": []
    },
    {
      "cell_type": "code",
      "metadata": {
        "id": "U2fvdjYNRfwp"
      },
      "source": [
        "#참조 모델:https://www.kaggle.com/barisbatuhan/tf-idf-and-classification-for-reuters\n",
        "activations = ['relu', 'softmax'] \n",
        "layer_sizes = [512, 46]\n",
        "optimizer_method = 'adam'\n",
        "batch_size = 128\n",
        "epochs = 30\n",
        "callback = []\n",
        "callback.append(callbacks.EarlyStopping(monitor='val_loss', verbose=1, patience=4, mode='min'))\n",
        "callback.append(callbacks.ModelCheckpoint('t_best_model.h5', monitor='val_acc', mode='max', verbose=1, save_best_only=True))"
      ],
      "execution_count": 4,
      "outputs": []
    },
    {
      "cell_type": "code",
      "metadata": {
        "id": "ZMABxZ8PRtK7"
      },
      "source": [
        "model = models.Sequential()\n",
        "model.add(layers.Dense(layer_sizes[0], input_shape=(30000,), activation=activations[0]))\n",
        "model.add(Dropout(0.5))\n",
        "model.add(layers.Dense(layer_sizes[1], activation=activations[1]))\n",
        "model.compile(loss='categorical_crossentropy', optimizer=optimizer_method, metrics=['acc'])"
      ],
      "execution_count": 5,
      "outputs": []
    },
    {
      "cell_type": "code",
      "metadata": {
        "colab": {
          "base_uri": "https://localhost:8080/"
        },
        "id": "g96-Xl-ETYuC",
        "outputId": "2956dcdf-b5f4-48de-ee18-9b91d222d6c4"
      },
      "source": [
        "model.fit(x=x_train, y=y_train, batch_size=batch_size, epochs=epochs, verbose=1, \n",
        "          shuffle=True, use_multiprocessing=True,\n",
        "          steps_per_epoch=None, callbacks=[callback],validation_data=(x_test, y_test))"
      ],
      "execution_count": 6,
      "outputs": [
        {
          "output_type": "stream",
          "text": [
            "Epoch 1/30\n",
            "71/71 [==============================] - 19s 33ms/step - loss: 1.8589 - acc: 0.6390 - val_loss: 0.8894 - val_acc: 0.8179\n",
            "\n",
            "Epoch 00001: val_acc improved from -inf to 0.81790, saving model to t_best_model.h5\n",
            "Epoch 2/30\n",
            "71/71 [==============================] - 2s 22ms/step - loss: 0.3680 - acc: 0.9270 - val_loss: 0.9399 - val_acc: 0.8126\n",
            "\n",
            "Epoch 00002: val_acc did not improve from 0.81790\n",
            "Epoch 3/30\n",
            "71/71 [==============================] - 2s 23ms/step - loss: 0.2568 - acc: 0.9485 - val_loss: 1.0467 - val_acc: 0.7996\n",
            "\n",
            "Epoch 00003: val_acc did not improve from 0.81790\n",
            "Epoch 4/30\n",
            "71/71 [==============================] - 2s 23ms/step - loss: 0.1979 - acc: 0.9548 - val_loss: 1.0978 - val_acc: 0.8014\n",
            "\n",
            "Epoch 00004: val_acc did not improve from 0.81790\n",
            "Epoch 5/30\n",
            "71/71 [==============================] - 2s 22ms/step - loss: 0.1789 - acc: 0.9602 - val_loss: 1.1414 - val_acc: 0.7983\n",
            "\n",
            "Epoch 00005: val_acc did not improve from 0.81790\n",
            "Epoch 00005: early stopping\n"
          ],
          "name": "stdout"
        },
        {
          "output_type": "execute_result",
          "data": {
            "text/plain": [
              "<keras.callbacks.History at 0x7f4b101b07d0>"
            ]
          },
          "metadata": {
            "tags": []
          },
          "execution_count": 6
        }
      ]
    },
    {
      "cell_type": "code",
      "metadata": {
        "id": "w7rhDPW2WTXY"
      },
      "source": [
        ""
      ],
      "execution_count": null,
      "outputs": []
    }
  ]
}